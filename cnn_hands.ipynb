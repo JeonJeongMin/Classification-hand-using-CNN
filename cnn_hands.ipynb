{
 "cells": [
  {
   "cell_type": "code",
   "execution_count": 1,
   "metadata": {
    "colab": {},
    "colab_type": "code",
    "id": "JbHc5YZiUTlk"
   },
   "outputs": [],
   "source": [
    "import tensorflow as tf\n",
    "import numpy as np\n",
    "import matplotlib.pyplot as plt\n",
    "import random\n",
    "import os\n",
    "tf.set_random_seed(777)"
   ]
  },
  {
   "cell_type": "code",
   "execution_count": 2,
   "metadata": {
    "colab": {},
    "colab_type": "code",
    "id": "KIyDaGzuJyNv"
   },
   "outputs": [],
   "source": [
    "#paremeter set\n",
    "learning_rate = 0.001\n",
    "training_epoch=20\n",
    "batch_size=100\n",
    "n_classes=1\n",
    "img_size=[1,64,64,3]\n",
    "classes=['paper','rock']"
   ]
  },
  {
   "cell_type": "code",
   "execution_count": 3,
   "metadata": {
    "colab": {},
    "colab_type": "code",
    "id": "r5R5QrJidenj"
   },
   "outputs": [],
   "source": [
    "#일정 비율로 training/test나누기\n",
    "def MakeData(x,y,prop):\n",
    "  \n",
    "  train_prop = prop\n",
    "  num_data = int(x.shape[0]/2)\n",
    "  num_train = int(num_data*train_prop)\n",
    "  \n",
    "  x_train = x[:num_train]\n",
    "  x_train = np.append(x_train, x[num_data:num_data+num_train],axis=0)\n",
    "  \n",
    "  x_test = x[num_train:num_data]\n",
    "  x_test = np.append(x_test, x[num_data+num_train:],axis=0)\n",
    "  \n",
    "  y_train = y[:num_train]\n",
    "  y_train = np.append(y_train, y[num_data:num_data+num_train],axis=0)\n",
    "  \n",
    "  y_test = y[num_train:num_data]\n",
    "  y_test = np.append(y_test, y[num_data+num_train:],axis=0)\n",
    "  \n",
    "  print('X data:',x.shape, ',Y data:',y.shape)\n",
    "  print('X train:',x_train.shape, ',Y train:',y_train.shape)\n",
    "  print('X test:',x_test.shape, ',Y test:',y_test.shape)\n",
    "  \n",
    "  return (x_train,y_train),(x_test,y_test)\n",
    "\n",
    "#랜덤 배치 생성 \n",
    "def next_batch(num, data, labels):\n",
    "    idx = np.arange(0,len(data))\n",
    "    np.random.shuffle(idx)\n",
    "    idx=idx[:num]\n",
    "    data_shuffle=[data[i] for i in idx]\n",
    "    labels_shuffle=[labels[i] for i in idx]\n",
    "    \n",
    "    return np.asarray(data_shuffle), np.asarray(labels_shuffle)\n",
    "  \n",
    "  \n",
    "#plt를 이용해서 사진 뽑아보기\n",
    "def Showimg(type, num):\n",
    "  plt.grid(None) \n",
    "  if type=='train':\n",
    "    img = x_train[num]\n",
    "    plt.imshow(img)\n",
    "    plt.show()\n",
    "    print(int(y_train[num][0]),classes[int(y_train[num][0])])\n",
    "    \n",
    "  elif type=='test':\n",
    "    img = x_test[num]\n",
    "    plt.imshow(img)\n",
    "    plt.show()\n",
    "    print(int(y_test[num][0]),classes[int(y_test[num][0])])\n",
    "    \n",
    "  elif type=='data':\n",
    "    img = x_data[num]\n",
    "    plt.imshow(img)\n",
    "    plt.show()\n",
    "    print(int(y_data[num][0]),classes[int(y_data[num][0])])\n",
    "  "
   ]
  },
  {
   "cell_type": "code",
   "execution_count": 4,
   "metadata": {
    "colab": {
     "base_uri": "https://localhost:8080/",
     "height": 87
    },
    "colab_type": "code",
    "id": "lBqpd91xGAdg",
    "outputId": "ed02a041-934f-443c-a58e-e3f3a29c64ff",
    "scrolled": true
   },
   "outputs": [
    {
     "name": "stdout",
     "output_type": "stream",
     "text": [
      "X data: (1800, 50, 50, 3) ,Y data: (1800, 1)\n",
      "X train: (1620, 50, 50, 3) ,Y train: (1620, 1)\n",
      "X test: (180, 50, 50, 3) ,Y test: (180, 1)\n",
      "Reading Data Success!\n"
     ]
    }
   ],
   "source": [
    "#데이터 읽어오기 0:paper 1:rock\n",
    "data_dir = './sub/data_resize/'\n",
    "class_list = os.listdir(data_dir)\n",
    "first_flag = True\n",
    "\n",
    "data_num=900\n",
    "\n",
    "for data_class in class_list:\n",
    "    data_class_list = os.listdir(data_dir+data_class)\n",
    "    limit_num=data_num\n",
    "    for data_name in data_class_list:\n",
    "        if limit_num==0:\n",
    "          break\n",
    "                \n",
    "        img = plt.imread(data_dir+data_class+'/'+data_name)\n",
    "        img = np.reshape(img,img_size)\n",
    "        if first_flag:\n",
    "            x_data=img\n",
    "            first_flag = False\n",
    "        else:\n",
    "            x_data=np.append(x_data,img,axis=0)\n",
    "\n",
    "        limit_num-=1\n",
    "\n",
    "y_data = np.zeros([data_num])\n",
    "y_data = np.append(y_data, np.ones([data_num]))\n",
    "y_data = np.reshape(y_data,[data_num*2,-1])\n",
    "\n",
    "(x_train, y_train), (x_test, y_test) = MakeData(x_data,y_data,0.9)\n",
    "\n",
    "print('Reading Data Success!')\n"
   ]
  },
  {
   "cell_type": "code",
   "execution_count": 5,
   "metadata": {
    "colab": {},
    "colab_type": "code",
    "id": "Gy_rrvG9UiBC"
   },
   "outputs": [],
   "source": [
    "X = tf.placeholder(tf.float32,[None,50,50,3])\n",
    "Y = tf.placeholder(tf.float32,[None,1])\n",
    "#Y_one_hot = tf.one_hot(Y,n_classes) \n",
    "#Y_one_hot = tf.reshape(Y_one_hot,[-1,n_classes]) #shape맞춰줌\n",
    "\n",
    "L1 = tf.layers.conv2d(X,64,[3,3],padding='SAME',activation=tf.nn.relu)\n",
    "L1 = tf.layers.max_pooling2d(L1,[2,2],[2,2],padding='SAME')\n",
    "\n",
    "L2 = tf.layers.conv2d(L1,128,[3,3],padding='SAME',activation=tf.nn.relu)\n",
    "L2 = tf.layers.max_pooling2d(L2,[2,2],[2,2],padding='SAME')\n",
    "\n",
    "L3 = tf.layers.conv2d(L2,256,[3,3],padding='SAME',activation=tf.nn.relu)\n",
    "L3 = tf.layers.max_pooling2d(L3,[2,2],[2,2],padding='SAME')\n",
    "\n",
    "L4 = tf.layers.flatten(L3)\n",
    "L4 = tf.layers.dense(L4,256,activation=tf.nn.relu)\n",
    "\n",
    "\n",
    "logits = tf.layers.dense(L4,n_classes,activation=None)\n",
    "\n",
    "hypothesis = tf.nn.sigmoid(logits)\n",
    "\n",
    "cost = tf.reduce_mean(tf.nn.sigmoid_cross_entropy_with_logits(logits=logits,labels=Y))\n",
    "optimizer = tf.train.AdamOptimizer(0.0001).minimize(cost)\n",
    "\n",
    "prediction = tf.round(hypothesis)\n",
    "is_correct=tf.equal(prediction,Y)\n",
    "accuracy = tf.reduce_mean(tf.cast(is_correct,tf.float32))"
   ]
  },
  {
   "cell_type": "code",
   "execution_count": 6,
   "metadata": {
    "colab": {
     "base_uri": "https://localhost:8080/",
     "height": 439
    },
    "colab_type": "code",
    "id": "HYDrq1UFWgna",
    "outputId": "b43141d6-34a3-4d41-e67f-a6c6fca94118"
   },
   "outputs": [
    {
     "name": "stdout",
     "output_type": "stream",
     "text": [
      "Total batch:16\n",
      "Batch Size:100\n",
      "Learning Start\n",
      "Epoch: 001 Cost:11.835229024\n",
      "Training_Acc:0.61000\n",
      "Epoch: 002 Cost:1.275262738\n",
      "Training_Acc:1.00000\n",
      "Epoch: 003 Cost:0.217379989\n",
      "Training_Acc:0.97000\n",
      "Epoch: 004 Cost:0.074201043\n",
      "Training_Acc:0.99000\n",
      "Epoch: 005 Cost:0.036339579\n",
      "Training_Acc:0.99000\n",
      "Epoch: 006 Cost:0.032738554\n",
      "Training_Acc:0.99000\n",
      "Epoch: 007 Cost:0.017511099\n",
      "Training_Acc:0.99000\n",
      "Epoch: 008 Cost:0.020638288\n",
      "Training_Acc:0.99000\n",
      "Epoch: 009 Cost:0.020386650\n",
      "Training_Acc:1.00000\n",
      "Epoch: 010 Cost:0.014428154\n",
      "Training_Acc:1.00000\n",
      "Epoch: 011 Cost:0.007727612\n",
      "Training_Acc:0.99000\n",
      "Epoch: 012 Cost:0.006752850\n",
      "Training_Acc:1.00000\n",
      "Epoch: 013 Cost:0.006868479\n",
      "Training_Acc:1.00000\n",
      "Epoch: 014 Cost:0.005503761\n",
      "Training_Acc:1.00000\n",
      "Epoch: 015 Cost:0.004316696\n",
      "Training_Acc:1.00000\n",
      "Epoch: 016 Cost:0.004161586\n",
      "Training_Acc:1.00000\n",
      "Epoch: 017 Cost:0.002181451\n",
      "Training_Acc:1.00000\n",
      "Epoch: 018 Cost:0.002466908\n",
      "Training_Acc:1.00000\n",
      "Epoch: 019 Cost:0.001556047\n",
      "Training_Acc:1.00000\n",
      "Epoch: 020 Cost:0.001243683\n",
      "Training_Acc:1.00000\n",
      "Learning Finished\n"
     ]
    }
   ],
   "source": [
    "sess=tf.Session()\n",
    "sess.run(tf.global_variables_initializer())\n",
    "total_batch = int(x_train.shape[0]/batch_size)\n",
    "print('Total batch:{:d}'.format(total_batch))\n",
    "print('Batch Size:{:d}'.format(batch_size))\n",
    "print('Learning Start')\n",
    "for epoch in range(training_epoch):\n",
    "    c_avg = 0\n",
    "    for i in range(total_batch):\n",
    "        batch_xs, batch_ys = next_batch(batch_size,x_train,y_train)\n",
    "        c,_=sess.run([cost,optimizer],feed_dict={X:batch_xs,Y:batch_ys})\n",
    "        c_avg+=c/total_batch\n",
    "    \n",
    "    print('Epoch: {:03d}'.format(epoch+1),'Cost:%.9f'%c_avg)\n",
    "    \n",
    "    #test데이터 정확도 출력\n",
    "    xs,ys=next_batch(100,x_test,y_test)\n",
    "    print('Training_Acc:{:.5f}'.format(sess.run(accuracy,feed_dict={X:xs,Y:ys})))\n",
    "    \n",
    "print('Learning Finished')    \n",
    "\n"
   ]
  },
  {
   "cell_type": "code",
   "execution_count": 49,
   "metadata": {
    "colab": {
     "base_uri": "https://localhost:8080/",
     "height": 385
    },
    "colab_type": "code",
    "id": "PaX4xqvDXW2C",
    "outputId": "8c232742-f7d7-4b3d-ec5f-ccd160433cef",
    "scrolled": false
   },
   "outputs": [
    {
     "name": "stdout",
     "output_type": "stream",
     "text": [
      "Accuracy: 100.000000 %\n"
     ]
    },
    {
     "data": {
      "image/png": "[encoded data removed]",
      "text/plain": [
       "<Figure size 432x288 with 1 Axes>"
      ]
     },
     "metadata": {
      "needs_background": "light"
     },
     "output_type": "display_data"
    },
    {
     "name": "stdout",
     "output_type": "stream",
     "text": [
      "1 rock\n"
     ]
    }
   ],
   "source": [
    "#test데이터 정확도 출력 및 랜덤사진 결과\n",
    "xs, ys = next_batch(x_test.shape[0],x_test,y_test)\n",
    "acc=sess.run(accuracy, feed_dict={X:xs, Y:ys})\n",
    "print('Accuracy:','%5f'%(100*acc),'%')\n",
    "\n",
    "test_num=random.randint(0,x_data.shape[0])\n",
    "Showimg('data',test_num)"
   ]
  },
  {
   "cell_type": "code",
   "execution_count": 33,
   "metadata": {},
   "outputs": [
    {
     "data": {
      "text/plain": [
       "(1800, 50, 50, 3)"
      ]
     },
     "execution_count": 33,
     "metadata": {},
     "output_type": "execute_result"
    }
   ],
   "source": [
    "x_data.shape"
   ]
  }
 ],
 "metadata": {
  "accelerator": "GPU",
  "colab": {
   "collapsed_sections": [],
   "name": "cnn-hands.ipynb",
   "provenance": [],
   "version": "0.3.2"
  },
  "kernelspec": {
   "display_name": "Python 3",
   "language": "python",
   "name": "python3"
  },
  "language_info": {
   "codemirror_mode": {
    "name": "ipython",
    "version": 3
   },
   "file_extension": ".py",
   "mimetype": "text/x-python",
   "name": "python",
   "nbconvert_exporter": "python",
   "pygments_lexer": "ipython3",
   "version": "3.6.8"
  }
 },
 "nbformat": 4,
 "nbformat_minor": 1
}
